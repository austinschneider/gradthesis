{
 "cells": [
  {
   "cell_type": "code",
   "execution_count": 1,
   "metadata": {},
   "outputs": [],
   "source": [
    "import numpy as np\n",
    "import matplotlib\n",
    "matplotlib.use('agg')\n",
    "import matplotlib.style\n",
    "matplotlib.style.use('paperstyle.mpl')\n",
    "import matplotlib.pyplot as plt"
   ]
  },
  {
   "cell_type": "code",
   "execution_count": 2,
   "metadata": {},
   "outputs": [],
   "source": [
    "import bisect\n",
    "import scipy as sp\n",
    "import scipy.stats"
   ]
  },
  {
   "cell_type": "code",
   "execution_count": 3,
   "metadata": {},
   "outputs": [],
   "source": [
    "def weighted_median(quantity, weights=None, alpha=0.5, axis=-1):\n",
    "    if weights is None:\n",
    "        weights = np.full_like(quantity, 1./np.shape(quantity)[axis])\n",
    "    total = np.sum(weights, axis=axis)\n",
    "    order = np.argsort(quantity, axis=axis)\n",
    "    sorted_q = quantity[order]\n",
    "    sorted_w = weights[order]\n",
    "    cumulative_w = np.cumsum(sorted_w, axis=axis) / total\n",
    "\n",
    "    i = bisect.bisect_left(cumulative_w, alpha) - 1 \n",
    "    if i < 0 or i >= len(quantity):\n",
    "        return None\n",
    "    return (sorted_q[i]*sorted_w[i]*(1.0 - alpha) + sorted_q[i+1]*sorted_w[i+1]*(alpha))/(sorted_w[i]*(1.0 - alpha) + sorted_w[i+1]*(alpha))"
   ]
  },
  {
   "cell_type": "code",
   "execution_count": 4,
   "metadata": {},
   "outputs": [],
   "source": [
    "# set the colormap and centre the colorbar\n",
    "class MidpointNormalize(matplotlib.colors.Normalize):\n",
    "    \"\"\"\n",
    "    Normalise the colorbar so that diverging bars work there way either side from a prescribed midpoint value)\n",
    "\n",
    "    e.g. im=ax1.imshow(array, norm=MidpointNormalize(midpoint=0.,vmin=-100, vmax=100))\n",
    "    \"\"\"\n",
    "    def __init__(self, vmin=None, vmax=None, midpoint=None, clip=False):\n",
    "        self.midpoint = midpoint\n",
    "        matplotlib.colors.Normalize.__init__(self, vmin, vmax, clip)\n",
    "\n",
    "    def __call__(self, value, clip=None):\n",
    "        # I'm ignoring masked values and all kinds of edge cases to make a\n",
    "        # simple example...\n",
    "        x, y = [self.vmin, self.midpoint, self.vmax], [0, 0.5, 1]\n",
    "        return np.ma.masked_array(np.interp(value, x, y), np.isnan(value))"
   ]
  },
  {
   "cell_type": "code",
   "execution_count": 5,
   "metadata": {},
   "outputs": [],
   "source": [
    "energy = (lambda x: (x[:-1]+x[1:])/2.)(np.logspace(0,11,89)) # in GeV\n",
    "distance = 1./np.logspace(np.log10(1./1000), np.log10(1./(2e5)), 100) # in m\n",
    "energy_bins = np.logspace(0,11,89) # in GeV\n",
    "distance_diff = (np.log10(1./1000) - np.log10(1./(2e5))) / (100-1)\n",
    "distance_bins = 1./np.logspace(np.log10(1./1000)+distance_diff/2., np.log10(1./(2e5))-distance_diff/2., 100+1) # in m"
   ]
  },
  {
   "cell_type": "code",
   "execution_count": 6,
   "metadata": {},
   "outputs": [],
   "source": [
    "f = open('output.txt', 'r')\n",
    "entries = np.zeros((len(energy), len(distance), 0)).tolist()\n",
    "initial_energies = []\n",
    "distances = []\n",
    "final_energies = []\n",
    "for line in f:\n",
    "    items = line.split(' ')\n",
    "    energy_i = int(items[0])\n",
    "    distance_i = int(items[1])\n",
    "    final_energy = float(items[2])/1e3\n",
    "    if distance_i == len(distance):\n",
    "        continue\n",
    "    if energy_i == len(energy):\n",
    "        continue\n",
    "    entries[energy_i][distance_i].append(final_energy)\n",
    "    initial_energies.append(energy[energy_i])\n",
    "    distances.append(distance[distance_i])\n",
    "    final_energies.append(final_energy)\n",
    "initial_energies = np.array(initial_energies)\n",
    "distances = np.array(distances)\n",
    "final_energies = np.array(final_energies)\n",
    "entries = np.array(entries)"
   ]
  },
  {
   "cell_type": "code",
   "execution_count": 7,
   "metadata": {},
   "outputs": [],
   "source": [
    "def prep_2d_hist(x, y, x_edges, y_edges, quantity, f=None):\n",
    "    x_mapping = np.digitize(x, bins=x_edges) - 1\n",
    "    y_mapping = np.digitize(y, bins=y_edges) - 1\n",
    "    n_x_edges = len(x_edges)\n",
    "    n_y_edges = len(y_edges)\n",
    "    n_x_bins = n_x_edges-1\n",
    "    n_y_bins = n_y_edges-1\n",
    "    print(n_x_bins, n_y_bins)\n",
    "    #bin_masks = np.empty((n_y_bins, n_x_bins, len(x)))\n",
    "    binned_quantity = np.empty((n_y_bins, n_x_bins, 0)).tolist()\n",
    "    binned_result = np.empty((n_y_bins, n_x_bins)).tolist()\n",
    "    for j in range(n_y_bins):\n",
    "        for k in range(n_x_bins):\n",
    "            mask = np.logical_and(x_mapping == k, y_mapping == j)\n",
    "            #bin_masks[j,k,:] = mask\n",
    "            binned_quantity[j][k] = quantity[mask]\n",
    "            if f is not None:\n",
    "                binned_result[j, k] = f(binned_quantity[j][k])\n",
    "    X = np.array([x_edges]*(n_y_edges))\n",
    "    Y = np.array([y_edges]*(n_x_edges)).T\n",
    "    if f is not None:\n",
    "        return X, Y, binned_quantity, binned_result\n",
    "    else:\n",
    "        return X, Y, binned_quantity"
   ]
  },
  {
   "cell_type": "code",
   "execution_count": 8,
   "metadata": {},
   "outputs": [
    {
     "name": "stdout",
     "output_type": "stream",
     "text": [
      "88 100\n"
     ]
    }
   ],
   "source": [
    "X, Y, binned_q = prep_2d_hist(initial_energies, distances, energy_bins, distance_bins, final_energies)"
   ]
  },
  {
   "cell_type": "code",
   "execution_count": 9,
   "metadata": {},
   "outputs": [],
   "source": [
    "vmin = np.amin(final_energies[final_energies>0])\n",
    "vmax = np.amax(final_energies)"
   ]
  },
  {
   "cell_type": "code",
   "execution_count": 10,
   "metadata": {},
   "outputs": [
    {
     "name": "stderr",
     "output_type": "stream",
     "text": [
      "/home/austin/.local/lib/python3.6/site-packages/matplotlib/colors.py:1110: RuntimeWarning: invalid value encountered in less_equal\n",
      "  mask |= resdat <= 0\n"
     ]
    }
   ],
   "source": [
    "median = np.array([[weighted_median(x, alpha=0.5) for x in l] for l in binned_q])\n",
    "median[median == 0] = np.nan\n",
    "cm = plt.get_cmap('plasma')\n",
    "cm.set_bad('white')\n",
    "fig, ax = plt.subplots(figsize=(7,5))\n",
    "mesh = ax.pcolormesh(X,Y,median, cmap=cm, norm=matplotlib.colors.LogNorm(vmin=vmin, vmax=vmax))\n",
    "ax.set_xscale('log')\n",
    "ax.set_yscale('log')\n",
    "ax.set_xlabel('Initial Muon Energy [GeV]')\n",
    "ax.set_ylabel(r'Muon Overburden [m]')\n",
    "cb = fig.colorbar(mesh, ax=ax)\n",
    "cb.ax.set_ylabel('Median Final Energy')\n",
    "cb.ax.minorticks_off()\n",
    "plt.tight_layout()\n",
    "fig.savefig('./preach_median.pdf')\n",
    "fig.clf()\n",
    "plt.close(fig)"
   ]
  },
  {
   "cell_type": "code",
   "execution_count": 70,
   "metadata": {},
   "outputs": [
    {
     "name": "stderr",
     "output_type": "stream",
     "text": [
      "/usr/lib/python3/dist-packages/ipykernel_launcher.py:5: RuntimeWarning: More than 20 figures have been opened. Figures created through the pyplot interface (`matplotlib.pyplot.figure`) are retained until explicitly closed and may consume too much memory. (To control this warning, see the rcParam `figure.max_open_warning`).\n",
      "  \"\"\"\n",
      "/home/austin/.local/lib/python3.6/site-packages/matplotlib/colors.py:1110: RuntimeWarning: invalid value encountered in less_equal\n",
      "  mask |= resdat <= 0\n"
     ]
    }
   ],
   "source": [
    "median = np.array([[np.average(x) for x in l] for l in binned_q])\n",
    "median[median == 0] = np.nan\n",
    "cm = plt.get_cmap('plasma')\n",
    "cm.set_bad('white')\n",
    "fig, ax = plt.subplots(figsize=(7,5))\n",
    "mesh = ax.pcolormesh(X,Y,median, cmap=cm, norm=matplotlib.colors.LogNorm(vmin=vmin, vmax=vmax))\n",
    "ax.set_xscale('log')\n",
    "ax.set_yscale('log')\n",
    "ax.set_xlabel('Initial Muon Energy [GeV]')\n",
    "ax.set_ylabel(r'Muon Overburden [m]')\n",
    "cb = fig.colorbar(mesh, ax=ax)\n",
    "cb.ax.set_ylabel('Mean Final Energy')\n",
    "cb.ax.minorticks_off()\n",
    "plt.tight_layout()\n",
    "fig.savefig('./preach_mean.pdf')\n",
    "fig.clf()\n",
    "plt.close(fig)"
   ]
  },
  {
   "cell_type": "code",
   "execution_count": 71,
   "metadata": {},
   "outputs": [
    {
     "name": "stderr",
     "output_type": "stream",
     "text": [
      "/usr/lib/python3/dist-packages/ipykernel_launcher.py:5: RuntimeWarning: More than 20 figures have been opened. Figures created through the pyplot interface (`matplotlib.pyplot.figure`) are retained until explicitly closed and may consume too much memory. (To control this warning, see the rcParam `figure.max_open_warning`).\n",
      "  \"\"\"\n",
      "/home/austin/.local/lib/python3.6/site-packages/matplotlib/colors.py:1110: RuntimeWarning: invalid value encountered in less_equal\n",
      "  mask |= resdat <= 0\n"
     ]
    }
   ],
   "source": [
    "q = np.array([[np.sqrt(np.var(x)) for x in l] for l in binned_q])\n",
    "q[q == 0] = np.nan\n",
    "cm = plt.get_cmap('plasma')\n",
    "cm.set_bad('white')\n",
    "fig, ax = plt.subplots(figsize=(7,5))\n",
    "mesh = ax.pcolormesh(X,Y,q, cmap=cm, norm=matplotlib.colors.LogNorm(vmin=vmin, vmax=vmax))\n",
    "ax.set_xscale('log')\n",
    "ax.set_yscale('log')\n",
    "ax.set_xlabel('Initial Muon Energy [GeV]')\n",
    "ax.set_ylabel(r'Muon Overburden [m]')\n",
    "cb = fig.colorbar(mesh, ax=ax)\n",
    "cb.ax.set_ylabel('StdDev Final Energy')\n",
    "cb.ax.minorticks_off()\n",
    "plt.tight_layout()\n",
    "fig.savefig('./preach_stddev.pdf')\n",
    "fig.clf()\n",
    "plt.close(fig)"
   ]
  },
  {
   "cell_type": "code",
   "execution_count": 72,
   "metadata": {},
   "outputs": [
    {
     "name": "stdout",
     "output_type": "stream",
     "text": [
      "[[ 0.          0.          0.         ... -0.79358434 -0.7968242\n",
      "  -0.77240475]\n",
      " [ 0.          0.          0.         ... -0.74352868 -0.76034103\n",
      "  -0.72583897]\n",
      " [ 0.          0.          0.         ... -0.67339341 -0.68523038\n",
      "  -0.67161724]\n",
      " ...\n",
      " [ 0.          0.          0.         ...  0.          0.\n",
      "   0.        ]\n",
      " [ 0.          0.          0.         ...  0.          0.\n",
      "   0.        ]\n",
      " [ 0.          0.          0.         ...  0.          0.\n",
      "   0.        ]]\n"
     ]
    },
    {
     "name": "stderr",
     "output_type": "stream",
     "text": [
      "/usr/lib/python3/dist-packages/ipykernel_launcher.py:6: RuntimeWarning: More than 20 figures have been opened. Figures created through the pyplot interface (`matplotlib.pyplot.figure`) are retained until explicitly closed and may consume too much memory. (To control this warning, see the rcParam `figure.max_open_warning`).\n",
      "  \n"
     ]
    }
   ],
   "source": [
    "q = np.array([[sp.stats.skew(x) for x in l] for l in binned_q])\n",
    "print(q)\n",
    "q[q == 0] = np.nan\n",
    "cm = plt.get_cmap('RdBu')\n",
    "cm.set_bad('white')\n",
    "fig, ax = plt.subplots(figsize=(7,5))\n",
    "mesh = ax.pcolormesh(X,Y,q, cmap=cm, norm=MidpointNormalize(midpoint=0))\n",
    "ax.set_xscale('log')\n",
    "ax.set_yscale('log')\n",
    "ax.set_xlabel('Initial Muon Energy [GeV]')\n",
    "ax.set_ylabel(r'Muon Overburden [m]')\n",
    "cb = fig.colorbar(mesh, ax=ax)\n",
    "cb.ax.set_ylabel('Skew')\n",
    "cb.ax.minorticks_off()\n",
    "plt.tight_layout()\n",
    "fig.savefig('./preach_skew.pdf')\n",
    "fig.clf()\n",
    "plt.close(fig)"
   ]
  },
  {
   "cell_type": "code",
   "execution_count": null,
   "metadata": {},
   "outputs": [],
   "source": []
  },
  {
   "cell_type": "code",
   "execution_count": 74,
   "metadata": {},
   "outputs": [],
   "source": [
    "f = open('1km_output.txt', 'r')\n",
    "entries = np.zeros((len(energy), len(distance), 0)).tolist()\n",
    "initial_energies = []\n",
    "distances = []\n",
    "final_energies = []\n",
    "for line in f:\n",
    "    items = line.split(' ')\n",
    "    energy_i = int(items[0])\n",
    "    distance_i = int(items[1])\n",
    "    final_energy = float(items[2])/1e3\n",
    "    if distance_i == len(distance):\n",
    "        continue\n",
    "    if energy_i == len(energy):\n",
    "        continue\n",
    "    entries[energy_i][distance_i].append(final_energy)\n",
    "    initial_energies.append(energy[energy_i])\n",
    "    distances.append(distance[distance_i])\n",
    "    final_energies.append(final_energy)\n",
    "initial_energies = np.array(initial_energies)\n",
    "distances = np.array(distances)\n",
    "final_energies = np.array(final_energies)\n",
    "entries = np.array(entries)"
   ]
  },
  {
   "cell_type": "code",
   "execution_count": 75,
   "metadata": {},
   "outputs": [
    {
     "data": {
      "text/plain": [
       "array([0.00000e+00, 0.00000e+00, 0.00000e+00, ..., 1.43951e+10,\n",
       "       7.11019e+10, 7.24547e+10])"
      ]
     },
     "execution_count": 75,
     "metadata": {},
     "output_type": "execute_result"
    }
   ],
   "source": [
    "final_energies"
   ]
  },
  {
   "cell_type": "code",
   "execution_count": 76,
   "metadata": {},
   "outputs": [
    {
     "data": {
      "text/plain": [
       "array([1.55590042e+00, 1.55590042e+00, 1.55590042e+00, ...,\n",
       "       8.74947105e+10, 8.74947105e+10, 8.74947105e+10])"
      ]
     },
     "execution_count": 76,
     "metadata": {},
     "output_type": "execute_result"
    }
   ],
   "source": [
    "initial_energies"
   ]
  },
  {
   "cell_type": "code",
   "execution_count": 77,
   "metadata": {},
   "outputs": [],
   "source": [
    "def mode(inputData, axis=None, dtype=None):\n",
    "    \"\"\"\n",
    "    Robust estimator of the mode of a data set using the half-sample mode.\n",
    "    .. versionadded: 1.0.3\n",
    "    \"\"\"\n",
    "\n",
    "    if axis is not None:\n",
    "        fnc = lambda x: mode(x, dtype=dtype)\n",
    "        dataMode = np.apply_along_axis(fnc, axis, inputData)\n",
    "    else:\n",
    "        # Create the function that we can use for the half-sample mode\n",
    "        def _hsm(data):\n",
    "            if data.size == 1:\n",
    "                return data[0]\n",
    "            elif data.size == 2:\n",
    "                return data.mean()\n",
    "            elif data.size == 3:\n",
    "                i1 = data[1] - data[0]\n",
    "                i2 = data[2] - data[1]\n",
    "                if i1 < i2:\n",
    "                    return data[:2].mean()\n",
    "                elif i2 > i1:\n",
    "                    return data[1:].mean()\n",
    "                else:\n",
    "                    return data[1]\n",
    "            else:\n",
    "                wMin = data[-1] - data[0]\n",
    "                N = int(data.size / 2 + data.size % 2)\n",
    "                j = None\n",
    "                for i in range(0, N):\n",
    "                    w = data[i+N-1] - data[i]\n",
    "                    if w < wMin:\n",
    "                        wMin = w\n",
    "                        j = i\n",
    "                if j is None:\n",
    "                    return data.mean()\n",
    "                return _hsm(data[j:j+N])\n",
    "\n",
    "        data = inputData.ravel()\n",
    "        if type(data).__name__ == \"MaskedArray\":\n",
    "            data = data.compressed()\n",
    "        if dtype is not None:\n",
    "            data = data.astype(dtype)\n",
    "\n",
    "        # The data need to be sorted for this to work\n",
    "        data = np.sort(data)\n",
    "\n",
    "        # Find the mode\n",
    "        dataMode = _hsm(data)\n",
    "\n",
    "    return dataMode\n",
    "\n",
    "def calc_min_interval(x, alpha):\n",
    "    \"\"\"Internal method to determine the minimum interval of\n",
    "    a given width\n",
    "    Assumes that x is sorted numpy array.\n",
    "    \"\"\"\n",
    "    n = len(x)\n",
    "    cred_mass = 1.0 - alpha\n",
    "\n",
    "    interval_idx_inc = int(np.floor(cred_mass * n))\n",
    "    n_intervals = n - interval_idx_inc\n",
    "    interval_width = x[interval_idx_inc:] - x[:n_intervals]\n",
    "\n",
    "    if len(interval_width) == 0:\n",
    "        raise ValueError('Too few elements for interval calculation')\n",
    "\n",
    "    min_idx = np.argmin(interval_width)\n",
    "    hdi_min = x[min_idx]\n",
    "    hdi_max = x[min_idx + interval_idx_inc]\n",
    "    return hdi_min, hdi_max\n",
    "\n",
    "def hpd(x, alpha=0.05, transform=lambda x: x):\n",
    "    \"\"\"Calculate highest posterior density (HPD) of array for given alpha. The HPD is the\n",
    "    minimum width Bayesian credible interval (BCI).\n",
    "    :Arguments:\n",
    "      x : Numpy array\n",
    "          An array containing MCMC samples\n",
    "      alpha : float\n",
    "          Desired probability of type I error (defaults to 0.05)\n",
    "      transform : callable\n",
    "          Function to transform data (defaults to identity)\n",
    "    \"\"\"\n",
    "    # Make a copy of trace\n",
    "    x = transform(x.copy())\n",
    "\n",
    "    # For multivariate node\n",
    "    if x.ndim > 1:\n",
    "\n",
    "        # Transpose first, then sort\n",
    "        tx = np.transpose(x, list(range(x.ndim))[1:] + [0])\n",
    "        dims = np.shape(tx)\n",
    "\n",
    "        # Container list for intervals\n",
    "        intervals = np.resize(0.0, dims[:-1] + (2,))\n",
    "\n",
    "        for index in make_indices(dims[:-1]):\n",
    "\n",
    "            try:\n",
    "                index = tuple(index)\n",
    "            except TypeError:\n",
    "                pass\n",
    "\n",
    "            # Sort trace\n",
    "            sx = np.sort(tx[index])\n",
    "\n",
    "            # Append to list\n",
    "            intervals[index] = calc_min_interval(sx, alpha)\n",
    "\n",
    "        # Transpose back before returning\n",
    "        return np.array(intervals)\n",
    "\n",
    "    else:\n",
    "        # Sort univariate node\n",
    "        sx = np.sort(x)\n",
    "\n",
    "        return np.array(calc_min_interval(sx, alpha))\n",
    "\n",
    "def interval(arr, proportion=scipy.special.erf(1.0/np.sqrt(2.0)), min=None, max=None):\n",
    "    \"\"\"\n",
    "    Compute distribution mode and the HPD that contains `proportion` of the mass.\n",
    "    \"\"\"\n",
    "    x = hpd(arr, alpha=(1.0-proportion))\n",
    "    if x[0] <= np.amin(arr):\n",
    "        if min is not None:\n",
    "            x[0] = min\n",
    "    if x[-1] <= np.amax(arr):\n",
    "        if max is not None:\n",
    "            x[1] = max\n",
    "    return x[0], mode(arr), x[1]"
   ]
  },
  {
   "cell_type": "code",
   "execution_count": 85,
   "metadata": {},
   "outputs": [
    {
     "name": "stdout",
     "output_type": "stream",
     "text": [
      "[1.166760716081662, 1.5559004211011238, 2.07482655785029, 2.7668256829150173, 3.6896213472271024, 4.920189143094658, 6.561177672614022, 8.749471046662277, 11.66760716081662, 15.55900421101123, 20.748265578502888, 27.668256829150167, 36.896213472271015, 49.201891430946574, 65.61177672614028, 87.49471046662279, 116.67607160816623, 155.5900421101123, 207.48265578502878, 276.6825682915018, 277.3521347227101, 301.47391430946567, 318.2957672614024, 357.4906046662279, 392.03471608166194, 429.6104211011234, 530.7215578502888, 590.1206829150174, 725.8313472271011, 890.4391430946562, 1112.772672614025, 1305.2210466622782, 2054.8171608166203, 2324.5042110112336, 3061.71557850289, 4175.556829150173, 5786.413472271004, 6876.041430946563, 8540.626726140246, 13062.010466622785, 15927.071608166196, 21416.04211011232, 29388.15578502891, 45009.568291501724, 51897.13472271012, 70600.41430946568, 82834.26726140245, 142244.60466622794, 161910.7160816621, 236545.42110112356, 311796.55785028916, 404815.6829150175, 496411.3472271012, 654349.143094657, 821037.672614025, 1142231.0466622785, 1948737.160816621, 2365504.2110112347, 3215715.5785028897, 4039156.82915017, 6581363.47227101, 6961041.430946566, 9904876.726140246, 11985110.4666228, 14110571.608166203, 25041042.11011234, 29669655.785028905, 36675568.29150176, 56669134.72271013, 81300914.30946565, 106740767.26140249, 139939104.66622794, 211723716.08166218, 223595421.10112333, 343361557.8502891, 453145682.9150171, 561806347.2271008, 750979143.094657, 1033587672.6140251, 1401496046.6622791, 1994352160.8166199, 2779604211.0112343, 3414765578.5028915, 4435506829.150173, 5571313472.271011, 10159891430.946564, 12903976726.140244, 15065010466.622803]\n",
      "[0.0, 0.0, 0.0, 0.0, 0.0, 0.0, 0.0, 0.0, 0.0, 0.0, 0.0, 0.0, 0.0, 0.0, 0.0, 0.0, 0.0, 0.0, 0.0, 5955.333777, 60918.46632, 144926.35329900004, 265738.73924, 426279.7095, 634954.84275, 942457.6852999999, 1300353.4560999998, 1778140.1637000002, 2473008.5357600003, 3347676.46523, 4517917.75, 5999830.978, 8187866.9453, 11148331.762, 14864366.008, 19939520.377, 26398332.9672, 35159380.163, 47495486.519, 62509635.644, 82882429.034, 110852652.97, 148122881.19770002, 195286419.13, 265453510.48, 346492661.286, 473350864.282, 627530406.08, 817008864.1, 1094972822.8, 1433368127.8, 1939931789.8, 2577262428.3, 3511150042.01, 4600558668.5, 6109582478.2, 8193823052.3, 10810142191.8, 14478344657.9, 18892725184.3, 25113364582.0, 33955427716.2, 45720630130.0, 59901071503.3, 76969659624.0, 105406130760.0, 139329092369.0, 185788133590.0, 249464614320.0, 325276252800.0, 431966620530.0, 585657208940.0, 767385151640.0, 1004082576800.0, 1349708318540.0, 1796452520500.0, 2395571903120.0, 3165898909800.0, 4171851699500.0, 5483315592000.0, 7111668681300.0, 9640135754300.0, 12984620506900.0, 16775557297000.0, 22452384301700.0, 30123163478000.0, 39093632732400.0, 52044005010000.0]\n"
     ]
    },
    {
     "name": "stderr",
     "output_type": "stream",
     "text": [
      "/usr/lib/python3/dist-packages/ipykernel_launcher.py:10: RuntimeWarning: More than 20 figures have been opened. Figures created through the pyplot interface (`matplotlib.pyplot.figure`) are retained until explicitly closed and may consume too much memory. (To control this warning, see the rcParam `figure.max_open_warning`).\n",
      "  # Remove the CWD from sys.path while we load stuff.\n"
     ]
    }
   ],
   "source": [
    "indices = np.digitize(initial_energies, bins=energy_bins) - 1\n",
    "masks = [indices == i for i in range(len(energy_bins) - 1)]\n",
    "energy_centers = (lambda x: (x[:-1]+x[1:])/2.)(energy_bins)\n",
    "interval_final_energies = [interval(initial_energies[m]-final_energies[m], 0.9) if np.sum(m)>0 else (energy_centers[i],)*3 for i,m in enumerate(masks)]\n",
    "y = [v[1] for v in interval_final_energies]\n",
    "print(y)\n",
    "yerr = np.array([(v[1]-v[0], v[2]-v[1]) for v in interval_final_energies]).T\n",
    "#err_final_energies = [np.sqrt(np.sum(final_energies[m]**2)/float(np.sum(m))) if np.sum(m)>0 else 0.0 for m in masks]\n",
    "print(avg_final_energies)\n",
    "fig, ax = plt.subplots(figsize=(7,5))\n",
    "ax.set_xscale('log')\n",
    "ax.set_yscale('log')\n",
    "ax.set_xlabel('Initial Muon Energy [GeV]')\n",
    "ax.set_ylabel(r'$-\\Delta E$ [GeV] after 1km')\n",
    "#ax.hist(energy_centers, bins=energy_bins, weights=y, histtype='step', color='black')\n",
    "ax.errorbar(energy_centers, y, yerr=yerr, capsize=2, color='blue')\n",
    "fig.tight_layout()\n",
    "fig.savefig('muon_energy.pdf')"
   ]
  },
  {
   "cell_type": "code",
   "execution_count": 63,
   "metadata": {},
   "outputs": [
    {
     "data": {
      "text/plain": [
       "array([8.74947105e+10, 8.74947105e+10, 8.74947105e+10, 8.74947105e+10,\n",
       "       8.74947105e+10, 8.74947105e+10, 8.74947105e+10, 8.74947105e+10,\n",
       "       8.74947105e+10, 8.74947105e+10])"
      ]
     },
     "execution_count": 63,
     "metadata": {},
     "output_type": "execute_result"
    }
   ],
   "source": [
    "initial_energies[-10:]"
   ]
  },
  {
   "cell_type": "code",
   "execution_count": 64,
   "metadata": {},
   "outputs": [
    {
     "data": {
      "text/plain": [
       "array([6.23467e+10, 6.77479e+10, 6.07689e+10, 6.12505e+10, 7.35273e+10,\n",
       "       7.24957e+10, 6.45639e+10, 1.43951e+10, 7.11019e+10, 7.24547e+10])"
      ]
     },
     "execution_count": 64,
     "metadata": {},
     "output_type": "execute_result"
    }
   ],
   "source": [
    "final_energies[-10:]"
   ]
  },
  {
   "cell_type": "code",
   "execution_count": null,
   "metadata": {},
   "outputs": [],
   "source": []
  }
 ],
 "metadata": {
  "kernelspec": {
   "display_name": "Python 3",
   "language": "python",
   "name": "python3"
  },
  "language_info": {
   "codemirror_mode": {
    "name": "ipython",
    "version": 3
   },
   "file_extension": ".py",
   "mimetype": "text/x-python",
   "name": "python",
   "nbconvert_exporter": "python",
   "pygments_lexer": "ipython3",
   "version": "3.6.9"
  }
 },
 "nbformat": 4,
 "nbformat_minor": 2
}
